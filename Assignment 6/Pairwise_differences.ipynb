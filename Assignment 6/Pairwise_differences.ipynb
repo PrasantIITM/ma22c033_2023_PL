{
  "nbformat": 4,
  "nbformat_minor": 0,
  "metadata": {
    "colab": {
      "provenance": [],
      "authorship_tag": "ABX9TyOX6HM4QfU7pFAxQSch0zDw",
      "include_colab_link": true
    },
    "kernelspec": {
      "name": "python3",
      "display_name": "Python 3"
    },
    "language_info": {
      "name": "python"
    }
  },
  "cells": [
    {
      "cell_type": "markdown",
      "metadata": {
        "id": "view-in-github",
        "colab_type": "text"
      },
      "source": [
        "<a href=\"https://colab.research.google.com/github/PrasantIITM/ma22c033_2023_PL/blob/main/Assignment%206/Pairwise_differences.ipynb\" target=\"_parent\"><img src=\"https://colab.research.google.com/assets/colab-badge.svg\" alt=\"Open In Colab\"/></a>"
      ]
    },
    {
      "cell_type": "code",
      "execution_count": 54,
      "metadata": {
        "colab": {
          "base_uri": "https://localhost:8080/"
        },
        "id": "DaIk0ssRNE33",
        "outputId": "a13326b5-71cc-43d3-d1b0-708866174fdd"
      },
      "outputs": [
        {
          "output_type": "stream",
          "name": "stdout",
          "text": [
            "[0.7298149  0.32714793 0.87754057 0.27337102 0.60305931]\n",
            "D= [[ 0.          0.40266697 -0.14772567  0.45644388  0.12675559]\n",
            " [-0.40266697  0.         -0.55039264  0.05377691 -0.27591138]\n",
            " [ 0.14772567  0.55039264  0.          0.60416955  0.27448126]\n",
            " [-0.45644388 -0.05377691 -0.60416955  0.         -0.32968829]\n",
            " [-0.12675559  0.27591138 -0.27448126  0.32968829  0.        ]]\n"
          ]
        }
      ],
      "source": [
        "import numpy as np\n",
        "x = np.random.rand(5)\n",
        "print(x)\n",
        "D=np.array([[x[j]-x[i] for i in range(5)]for j in range(5)])\n",
        "print(\"D=\", D)"
      ]
    },
    {
      "cell_type": "code",
      "source": [
        "\n",
        "\n",
        ""
      ],
      "metadata": {
        "id": "QeeMcpmuNRRP"
      },
      "execution_count": 54,
      "outputs": []
    }
  ]
}