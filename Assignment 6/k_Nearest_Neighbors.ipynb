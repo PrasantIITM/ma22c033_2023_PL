{
  "nbformat": 4,
  "nbformat_minor": 0,
  "metadata": {
    "colab": {
      "provenance": [],
      "authorship_tag": "ABX9TyOGr5+mGphVKFZHBGwmkJdf",
      "include_colab_link": true
    },
    "kernelspec": {
      "name": "python3",
      "display_name": "Python 3"
    },
    "language_info": {
      "name": "python"
    }
  },
  "cells": [
    {
      "cell_type": "markdown",
      "metadata": {
        "id": "view-in-github",
        "colab_type": "text"
      },
      "source": [
        "<a href=\"https://colab.research.google.com/github/PrasantIITM/ma22c033_2023_PL/blob/main/Assignment%206/k_Nearest_Neighbors.ipynb\" target=\"_parent\"><img src=\"https://colab.research.google.com/assets/colab-badge.svg\" alt=\"Open In Colab\"/></a>"
      ]
    },
    {
      "cell_type": "code",
      "execution_count": 1,
      "metadata": {
        "id": "nrUABXe5XVdD"
      },
      "outputs": [],
      "source": [
        "import numpy as np\n",
        "P = np.array([[0,0], [0.2, 0.22], [0.1, -0.1],\n",
        "\n",
        "[1,1], [1.1, 0.9], [0.8, 0.9], [1.1, 0.63],\n",
        "[0.58, -0.1], [0.63, 0.1], [0.67, -0.3], [0.8,-0.23],\n",
        "[0.8, 0.6]])"
      ]
    },
    {
      "cell_type": "code",
      "source": [
        "# for each pair of points, compute differences in their coordinates\n",
        "differences = P[:, np.newaxis, :] - P[np.newaxis, :, :]\n",
        "differences.shape"
      ],
      "metadata": {
        "colab": {
          "base_uri": "https://localhost:8080/"
        },
        "id": "mms0eHcjXtdE",
        "outputId": "ba39aadf-d458-4338-9297-5cc350fc2ffe"
      },
      "execution_count": 4,
      "outputs": [
        {
          "output_type": "execute_result",
          "data": {
            "text/plain": [
              "(12, 12, 2)"
            ]
          },
          "metadata": {},
          "execution_count": 4
        }
      ]
    },
    {
      "cell_type": "code",
      "source": [
        "# square the coordinate differences\n",
        "sq_differences = differences ** 2\n",
        "sq_differences.shape"
      ],
      "metadata": {
        "colab": {
          "base_uri": "https://localhost:8080/"
        },
        "id": "t6Bfbo31X4U6",
        "outputId": "db483af5-ca22-4e0c-918e-9a48a39253a5"
      },
      "execution_count": 5,
      "outputs": [
        {
          "output_type": "execute_result",
          "data": {
            "text/plain": [
              "(12, 12, 2)"
            ]
          },
          "metadata": {},
          "execution_count": 5
        }
      ]
    },
    {
      "cell_type": "code",
      "source": [
        "# sum the coordinate differences to get the squared distance\n",
        "dist_sq = sq_differences.sum(-1)\n",
        "dist_sq.shape"
      ],
      "metadata": {
        "colab": {
          "base_uri": "https://localhost:8080/"
        },
        "id": "R6PufzrOX7tM",
        "outputId": "faeb3ef6-9bff-45b3-ff25-ea73fc1825cb"
      },
      "execution_count": 6,
      "outputs": [
        {
          "output_type": "execute_result",
          "data": {
            "text/plain": [
              "(12, 12)"
            ]
          },
          "metadata": {},
          "execution_count": 6
        }
      ]
    },
    {
      "cell_type": "code",
      "source": [
        "nearest = np.argsort(dist_sq, axis=1) #The leftmost columns will then give the indices of the nearest neighbors\n",
        "print(nearest)"
      ],
      "metadata": {
        "colab": {
          "base_uri": "https://localhost:8080/"
        },
        "id": "ACv7G31KYBlJ",
        "outputId": "dc8d423a-93cd-46e4-8676-d75a25e49ef4"
      },
      "execution_count": 7,
      "outputs": [
        {
          "output_type": "stream",
          "name": "stdout",
          "text": [
            "[[ 0  2  1  7  8  9 10 11  5  6  3  4]\n",
            " [ 1  0  2  8  7  9 11 10  5  6  3  4]\n",
            " [ 2  0  1  7  8  9 10 11  5  6  4  3]\n",
            " [ 3  4  5  6 11  8  1  7 10  9  0  2]\n",
            " [ 4  3  6  5 11  8  7  1 10  9  2  0]\n",
            " [ 5  3  4 11  6  8  1  7 10  0  9  2]\n",
            " [ 6  4 11  3  5  8  7 10  1  9  2  0]\n",
            " [ 7  8  9 10  2  1  0 11  6  5  4  3]\n",
            " [ 8  7 10  9  1 11  2  0  6  5  4  3]\n",
            " [ 9 10  7  8  2  1  0 11  6  5  4  3]\n",
            " [10  9  7  8  2  1 11  0  6  5  4  3]\n",
            " [11  5  6  4  3  8  1  7 10  9  2  0]]\n"
          ]
        }
      ]
    },
    {
      "cell_type": "markdown",
      "source": [
        " As we  interested in the nearest k neighbors, all we need is to partition each row so that the smallest k+1\n",
        " squared distances come first, with larger distances filling the remaining positions of the array."
      ],
      "metadata": {
        "id": "hmxNswkIZDUl"
      }
    },
    {
      "cell_type": "code",
      "source": [
        "K = 3\n",
        "nearest_partition = np.argpartition(dist_sq, K + 1, axis=1)"
      ],
      "metadata": {
        "id": "cTtAkxtNYrAM"
      },
      "execution_count": 10,
      "outputs": []
    },
    {
      "cell_type": "code",
      "source": [
        "print(nearest_partition)"
      ],
      "metadata": {
        "colab": {
          "base_uri": "https://localhost:8080/"
        },
        "id": "Gk4MHg7YZQA5",
        "outputId": "a05dd098-dea5-4b4a-f6e6-60787863bdc7"
      },
      "execution_count": 11,
      "outputs": [
        {
          "output_type": "stream",
          "name": "stdout",
          "text": [
            "[[ 1  7  2  0  8  9 10 11  6  4  3  5]\n",
            " [ 0  1  2  8  7  9 11  6  4  3 10  5]\n",
            " [ 1  7  2  0  8  9 10 11  6  4  3  5]\n",
            " [ 4  5  6  3 11  1  2  7  8  9 10  0]\n",
            " [ 4  5  6  3 11  1  2  7  8  9 10  0]\n",
            " [ 3  5  4 11  6  8  7  1 10  0  9  2]\n",
            " [ 4 11  6  3  5  1  2  7  8  9 10  0]\n",
            " [ 7  8  9 10  2  1  0 11  6  4  3  5]\n",
            " [ 8  7 10  9  1 11  2  0  6  4  3  5]\n",
            " [ 9 10  7  8  2  1  0 11  6  4  3  5]\n",
            " [ 9 10  7  8  2  1 11  0  6  4  3  5]\n",
            " [11  5  6  4  3  8  1  7 10  9  2  0]]\n"
          ]
        }
      ]
    },
    {
      "cell_type": "code",
      "source": [
        "import matplotlib.pyplot as plt\n",
        "\n",
        "\n",
        "plt.scatter(P[:, 0], P[:, 1], s=100)\n",
        "\n",
        "# draw lines from each point to its two nearest neighbors\n",
        "K = 3\n",
        "\n",
        "for i in range(P.shape[0]):\n",
        "    for j in nearest_partition[i, :K+1]:\n",
        "        # plot a line from X[i] to X[j]\n",
        "        plt.plot(*zip(P[j], P[i]), color='black')"
      ],
      "metadata": {
        "colab": {
          "base_uri": "https://localhost:8080/",
          "height": 430
        },
        "id": "E8KDlAdPZe76",
        "outputId": "9cd05e40-314b-40fb-a02c-e86a6b627a6d"
      },
      "execution_count": 15,
      "outputs": [
        {
          "output_type": "display_data",
          "data": {
            "text/plain": [
              "<Figure size 640x480 with 1 Axes>"
            ],
            "image/png": "[encoded data removed]"
          },
          "metadata": {}
        }
      ]
    }
  ]
}