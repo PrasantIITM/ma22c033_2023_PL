{
  "nbformat": 4,
  "nbformat_minor": 0,
  "metadata": {
    "colab": {
      "provenance": [],
      "authorship_tag": "ABX9TyNQST7P9yEAvewODJZw8Iyj",
      "include_colab_link": true
    },
    "kernelspec": {
      "name": "python3",
      "display_name": "Python 3"
    },
    "language_info": {
      "name": "python"
    }
  },
  "cells": [
    {
      "cell_type": "markdown",
      "metadata": {
        "id": "view-in-github",
        "colab_type": "text"
      },
      "source": [
        "<a href=\"https://colab.research.google.com/github/PrasantIITM/ma22c033_2023_PL/blob/main/Assignment%208/Column_space.ipynb\" target=\"_parent\"><img src=\"https://colab.research.google.com/assets/colab-badge.svg\" alt=\"Open In Colab\"/></a>"
      ]
    },
    {
      "cell_type": "code",
      "execution_count": 31,
      "metadata": {
        "id": "opfZamjIUlY7"
      },
      "outputs": [],
      "source": [
        "import numpy as np\n",
        "from scipy.linalg import svd, qr\n",
        "A = np.array([[1, -2, 3, -3], [2, -4, 9, -2], [-3, 6, -9, 9]])"
      ]
    },
    {
      "cell_type": "markdown",
      "source": [
        "**Task 1**"
      ],
      "metadata": {
        "id": "SR3wMlZMhfoP"
      }
    },
    {
      "cell_type": "code",
      "source": [
        "u,s,vT=svd(A)"
      ],
      "metadata": {
        "id": "5j6i5S9MU1WK"
      },
      "execution_count": 32,
      "outputs": []
    },
    {
      "cell_type": "code",
      "source": [
        "print(u)"
      ],
      "metadata": {
        "colab": {
          "base_uri": "https://localhost:8080/"
        },
        "id": "UL8za2UxV6Tp",
        "outputId": "8b6c544c-87bd-46ed-db42-da97a33f5f94"
      },
      "execution_count": 33,
      "outputs": [
        {
          "output_type": "stream",
          "name": "stdout",
          "text": [
            "[[ 2.66235859e-01  1.70641342e-01  9.48683298e-01]\n",
            " [ 5.39615303e-01 -8.41911709e-01 -5.55111512e-17]\n",
            " [-7.98707576e-01 -5.11924025e-01  3.16227766e-01]]\n"
          ]
        }
      ]
    },
    {
      "cell_type": "code",
      "source": [
        "print(u.T)"
      ],
      "metadata": {
        "colab": {
          "base_uri": "https://localhost:8080/"
        },
        "id": "0yevnXDUV_ch",
        "outputId": "f8179892-d4a9-4f49-d9b6-a16b4d2daf23"
      },
      "execution_count": 34,
      "outputs": [
        {
          "output_type": "stream",
          "name": "stdout",
          "text": [
            "[[ 2.66235859e-01  5.39615303e-01 -7.98707576e-01]\n",
            " [ 1.70641342e-01 -8.41911709e-01 -5.11924025e-01]\n",
            " [ 9.48683298e-01 -5.55111512e-17  3.16227766e-01]]\n"
          ]
        }
      ]
    },
    {
      "cell_type": "code",
      "source": [
        "for i in range(3):\n",
        "  basis_svd=u.T[i]\n",
        "\n",
        "  print(basis_svd,end=\"  \")"
      ],
      "metadata": {
        "colab": {
          "base_uri": "https://localhost:8080/"
        },
        "id": "EoX1ICwGWVKK",
        "outputId": "4226e7a9-15b2-42ad-a21e-5efcb36f0e81"
      },
      "execution_count": 35,
      "outputs": [
        {
          "output_type": "stream",
          "name": "stdout",
          "text": [
            "[ 0.26623586  0.5396153  -0.79870758]  [ 0.17064134 -0.84191171 -0.51192403]  [ 9.48683298e-01 -5.55111512e-17  3.16227766e-01]  "
          ]
        }
      ]
    },
    {
      "cell_type": "code",
      "source": [
        "q,r=qr(A)"
      ],
      "metadata": {
        "id": "6AHeAcvsaCrW"
      },
      "execution_count": 36,
      "outputs": []
    },
    {
      "cell_type": "code",
      "source": [
        "print(q)"
      ],
      "metadata": {
        "colab": {
          "base_uri": "https://localhost:8080/"
        },
        "id": "whvkw_CcaHa0",
        "outputId": "c32ba6e2-9179-447e-f8aa-6c55704ac755"
      },
      "execution_count": 37,
      "outputs": [
        {
          "output_type": "stream",
          "name": "stdout",
          "text": [
            "[[-0.26726124  0.95618289 -0.11952286]\n",
            " [-0.53452248 -0.04390192  0.84401323]\n",
            " [ 0.80178373  0.28945968  0.52283453]]\n"
          ]
        }
      ]
    },
    {
      "cell_type": "code",
      "source": [
        "print(r)"
      ],
      "metadata": {
        "colab": {
          "base_uri": "https://localhost:8080/"
        },
        "id": "Yhz5-curaLCU",
        "outputId": "a3fe25ee-b09c-49a0-e62f-f44fd34140a2"
      },
      "execution_count": 38,
      "outputs": [
        {
          "output_type": "stream",
          "name": "stdout",
          "text": [
            "[[-3.74165739e+00  7.48331477e+00 -1.28285396e+01  9.08688223e+00]\n",
            " [ 0.00000000e+00 -1.98602732e-15 -1.31705767e-01 -1.75607689e-01]\n",
            " [ 0.00000000e+00  0.00000000e+00  2.53203970e+00  3.37605293e+00]]\n"
          ]
        }
      ]
    },
    {
      "cell_type": "markdown",
      "source": [
        "In  QR factorization the set of column vectors of Q work as a orthogonal basis for the column space matrix A. Hence the columns vectors of Q is also a basis for the column space of Matrix A."
      ],
      "metadata": {
        "id": "4kc-7PFSqE6g"
      }
    },
    {
      "cell_type": "code",
      "source": [
        "for i in range(3):\n",
        "  basis_qr=q.T[i]\n",
        "  # B=np.concatenate(q.T[i])\n",
        "\n",
        "  print(basis_qr,end=\"  \")"
      ],
      "metadata": {
        "colab": {
          "base_uri": "https://localhost:8080/"
        },
        "id": "YAxDyWOPfu1J",
        "outputId": "25dad70c-1f6f-4715-cc3b-f9b5620754f1"
      },
      "execution_count": 39,
      "outputs": [
        {
          "output_type": "stream",
          "name": "stdout",
          "text": [
            "[-0.26726124 -0.53452248  0.80178373]  [ 0.95618289 -0.04390192  0.28945968]  [-0.11952286  0.84401323  0.52283453]  "
          ]
        }
      ]
    },
    {
      "cell_type": "code",
      "source": [
        "q @ q.T"
      ],
      "metadata": {
        "id": "HUtSEYISf95h",
        "outputId": "9f35c4b2-01d0-401b-f29e-f3c0a15835bc",
        "colab": {
          "base_uri": "https://localhost:8080/"
        }
      },
      "execution_count": 40,
      "outputs": [
        {
          "output_type": "execute_result",
          "data": {
            "text/plain": [
              "array([[ 1.00000000e+00,  1.92665606e-16, -4.22849884e-17],\n",
              "       [ 1.92665606e-16,  1.00000000e+00, -8.94625747e-18],\n",
              "       [-4.22849884e-17, -8.94625747e-18,  1.00000000e+00]])"
            ]
          },
          "metadata": {},
          "execution_count": 40
        }
      ]
    },
    {
      "cell_type": "markdown",
      "source": [
        "**Task 2**"
      ],
      "metadata": {
        "id": "1Y3tlpCKhN0w"
      }
    },
    {
      "cell_type": "markdown",
      "source": [
        "Suppose B1 AND B2 are two basis for vector space V. Now the question arise can without knowing the vectorspce if only the basis are availabel can they generate the same vector space ?\n",
        " Two verify this we find the rank of matrix [B1, B2]= rank of matrix(B1)=rank of matrix(B2) . Then we can say that B1 spans B2  "
      ],
      "metadata": {
        "id": "ndyVMU71qupG"
      }
    },
    {
      "cell_type": "code",
      "source": [
        "aug_uq=np.vstack((u,q)) # here we make the [u.T,q.T].T matrix as we rank of A=rank of A.T\n",
        "print(aug_uq)"
      ],
      "metadata": {
        "colab": {
          "base_uri": "https://localhost:8080/"
        },
        "id": "6664b2nEfIxR",
        "outputId": "b7319da4-b592-458e-f86f-b3ed6afec749"
      },
      "execution_count": 41,
      "outputs": [
        {
          "output_type": "stream",
          "name": "stdout",
          "text": [
            "[[ 2.66235859e-01  1.70641342e-01  9.48683298e-01]\n",
            " [ 5.39615303e-01 -8.41911709e-01 -5.55111512e-17]\n",
            " [-7.98707576e-01 -5.11924025e-01  3.16227766e-01]\n",
            " [-2.67261242e-01  9.56182887e-01 -1.19522861e-01]\n",
            " [-5.34522484e-01 -4.39019222e-02  8.44013232e-01]\n",
            " [ 8.01783726e-01  2.89459681e-01  5.22834534e-01]]\n"
          ]
        }
      ]
    },
    {
      "cell_type": "code",
      "source": [
        "np.linalg.matrix_rank(aug_uq)"
      ],
      "metadata": {
        "colab": {
          "base_uri": "https://localhost:8080/"
        },
        "id": "avGvorRNoJ4e",
        "outputId": "d7839814-794c-4fad-f30f-a68b4fdca31c"
      },
      "execution_count": 42,
      "outputs": [
        {
          "output_type": "execute_result",
          "data": {
            "text/plain": [
              "3"
            ]
          },
          "metadata": {},
          "execution_count": 42
        }
      ]
    },
    {
      "cell_type": "markdown",
      "source": [
        "As rank(u) =rank(q) =rank(aug_uq). So from here we can say that the basis we got from svd matrix is able to generate the basis we got from qr. So Both the basis can generate same column space."
      ],
      "metadata": {
        "id": "h9aBc_9konf1"
      }
    },
    {
      "cell_type": "markdown",
      "source": [
        "**Task 3**"
      ],
      "metadata": {
        "id": "n9yPte2_hI28"
      }
    },
    {
      "cell_type": "code",
      "source": [
        "B=np.random.rand(500,500)\n",
        "U,S,VT=svd(B)\n",
        "Q,R=qr(B)\n",
        "%timeit U,S,VT\n",
        "%timeit Q,R"
      ],
      "metadata": {
        "colab": {
          "base_uri": "https://localhost:8080/"
        },
        "id": "Al3gK0KDfE4L",
        "outputId": "bcc2c509-6be9-419d-d7b5-fe0896426c6c"
      },
      "execution_count": 43,
      "outputs": [
        {
          "output_type": "stream",
          "name": "stdout",
          "text": [
            "116 ns ± 31.9 ns per loop (mean ± std. dev. of 7 runs, 10000000 loops each)\n",
            "79.6 ns ± 13.9 ns per loop (mean ± std. dev. of 7 runs, 10000000 loops each)\n"
          ]
        }
      ]
    },
    {
      "cell_type": "markdown",
      "source": [
        "In above as we can see that QR factorization is faster than svd."
      ],
      "metadata": {
        "id": "ZBeoMXXBg43P"
      }
    }
  ]
}