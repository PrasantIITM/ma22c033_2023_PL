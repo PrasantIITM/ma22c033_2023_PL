{
  "nbformat": 4,
  "nbformat_minor": 0,
  "metadata": {
    "colab": {
      "provenance": [],
      "authorship_tag": "ABX9TyO0eAarIgOFm0v2pUc3DrDS",
      "include_colab_link": true
    },
    "kernelspec": {
      "name": "python3",
      "display_name": "Python 3"
    },
    "language_info": {
      "name": "python"
    }
  },
  "cells": [
    {
      "cell_type": "markdown",
      "metadata": {
        "id": "view-in-github",
        "colab_type": "text"
      },
      "source": [
        "<a href=\"https://colab.research.google.com/github/PrasantIITM/ma22c033_2023_PL/blob/main/Assignment%208/Null_space.ipynb\" target=\"_parent\"><img src=\"https://colab.research.google.com/assets/colab-badge.svg\" alt=\"Open In Colab\"/></a>"
      ]
    },
    {
      "cell_type": "code",
      "execution_count": 35,
      "metadata": {
        "colab": {
          "base_uri": "https://localhost:8080/"
        },
        "id": "jX1jQso7kQAa",
        "outputId": "9e436191-1e0e-47a5-ee11-672fea44da7f"
      },
      "outputs": [
        {
          "output_type": "execute_result",
          "data": {
            "text/plain": [
              "array([[ 1, -2,  9,  5,  4],\n",
              "       [ 1, -1,  6,  5, -3],\n",
              "       [-2,  0, -6,  1, -2],\n",
              "       [ 4,  1,  9,  1, -9]])"
            ]
          },
          "metadata": {},
          "execution_count": 35
        }
      ],
      "source": [
        "import numpy as np\n",
        "from scipy.linalg import svd, qr\n",
        "A = np.array([[1, -2, 9, 5, 4,], [1, -1, 6, 5, -3], [-2, 0, -6, 1, -2],[4, 1, 9, 1, -9]])\n",
        "A"
      ]
    },
    {
      "cell_type": "markdown",
      "source": [
        "**Task 1**                                                                    "
      ],
      "metadata": {
        "id": "l7UOhRiInoqQ"
      }
    },
    {
      "cell_type": "markdown",
      "source": [
        "The null space of the given matrix A using SVD."
      ],
      "metadata": {
        "id": "V8pQLfTroDiT"
      }
    },
    {
      "cell_type": "markdown",
      "source": [
        "From Svd we can say a basis for the nullspace is the column vectors of the matrix V from rth column to nth column . where r is the rank of A."
      ],
      "metadata": {
        "id": "PYOqQtY_oK4r"
      }
    },
    {
      "cell_type": "code",
      "source": [
        "u,s,vT=svd(A)"
      ],
      "metadata": {
        "id": "lFc3DYoMnoEI"
      },
      "execution_count": 36,
      "outputs": []
    },
    {
      "cell_type": "code",
      "source": [
        "vT"
      ],
      "metadata": {
        "colab": {
          "base_uri": "https://localhost:8080/"
        },
        "id": "LkU_qGbHo0LL",
        "outputId": "96a51faf-3ac9-4c7f-f0c1-ab7c701e86e0"
      },
      "execution_count": 37,
      "outputs": [
        {
          "output_type": "execute_result",
          "data": {
            "text/plain": [
              "array([[ 0.24638127, -0.04503456,  0.8742475 ,  0.30107333, -0.28690474],\n",
              "       [-0.12991821, -0.20626881,  0.22905181,  0.27058334,  0.90271499],\n",
              "       [ 0.3027347 ,  0.2022255 ,  0.3015276 , -0.84037193,  0.26516538],\n",
              "       [-0.87219483,  0.3573579 ,  0.29073161, -0.14709627, -0.07354813],\n",
              "       [ 0.26466093,  0.8870317 , -0.08822031,  0.32905504,  0.16452752]])"
            ]
          },
          "metadata": {},
          "execution_count": 37
        }
      ]
    },
    {
      "cell_type": "code",
      "source": [
        "r_vT = np.linalg.matrix_rank(A)\n",
        "r_vT"
      ],
      "metadata": {
        "colab": {
          "base_uri": "https://localhost:8080/"
        },
        "id": "6_9zwvjppAkA",
        "outputId": "d1e262b4-d44c-43df-d645-5c15538bd2f5"
      },
      "execution_count": 38,
      "outputs": [
        {
          "output_type": "execute_result",
          "data": {
            "text/plain": [
              "3"
            ]
          },
          "metadata": {},
          "execution_count": 38
        }
      ]
    },
    {
      "cell_type": "code",
      "source": [
        "for i in range(4):\n",
        "  if np.linalg.matrix_rank(A)+i <= 4:\n",
        "    print(\"b{}\".format(i+1),vT.T[:,r_vT+i],end=\" \")        # basis vectors for nullspace\n",
        "    print(\"Ab{}=\".format(i+1),A @ vT.T[:,r_vT+i])       #verify the basis vector"
      ],
      "metadata": {
        "colab": {
          "base_uri": "https://localhost:8080/"
        },
        "id": "O2hSnH2KqGj2",
        "outputId": "015e8244-4bad-438a-8eca-860d910772d3"
      },
      "execution_count": 56,
      "outputs": [
        {
          "output_type": "stream",
          "name": "stdout",
          "text": [
            "b1 [-0.87219483  0.3573579   0.29073161 -0.14709627 -0.07354813] Ab1= [-1.66533454e-15 -4.35762537e-15 -4.77395901e-15  2.02615702e-15]\n",
            "b2 [ 0.26466093  0.8870317  -0.08822031  0.32905504  0.16452752] Ab2= [ 8.88178420e-16  1.66533454e-16 -1.11022302e-15  5.55111512e-16]\n"
          ]
        }
      ]
    },
    {
      "cell_type": "markdown",
      "source": [
        "as A @ vT.T[:,r_vT+i+1] is close to 0 so [ 0.26466093  0.8870317  -0.08822031  0.32905504  0.16452752] is a basis for null space pf A"
      ],
      "metadata": {
        "id": "CTIOhJT_xdH1"
      }
    },
    {
      "cell_type": "markdown",
      "source": [
        "**Task 2**"
      ],
      "metadata": {
        "id": "NtdQX_IksGPw"
      }
    },
    {
      "cell_type": "markdown",
      "source": [
        "As A= QR and Q is full rank so nullspace of A= nullspace R"
      ],
      "metadata": {
        "id": "e8-Eio0Ibulk"
      }
    },
    {
      "cell_type": "code",
      "source": [
        "Q,R=qr(A)"
      ],
      "metadata": {
        "id": "2N1_16gTsOwS"
      },
      "execution_count": 41,
      "outputs": []
    },
    {
      "cell_type": "code",
      "source": [
        "S,D,V=svd(R)"
      ],
      "metadata": {
        "id": "USzNfCfzSej0"
      },
      "execution_count": 43,
      "outputs": []
    },
    {
      "cell_type": "code",
      "source": [
        "r_R = np.linalg.matrix_rank(R)\n",
        "r_R"
      ],
      "metadata": {
        "colab": {
          "base_uri": "https://localhost:8080/"
        },
        "id": "E4wJ1t1rSkJ5",
        "outputId": "6a2d9ad5-0321-4bbd-e76a-9a0640e0693f"
      },
      "execution_count": 45,
      "outputs": [
        {
          "output_type": "execute_result",
          "data": {
            "text/plain": [
              "3"
            ]
          },
          "metadata": {},
          "execution_count": 45
        }
      ]
    },
    {
      "cell_type": "code",
      "source": [
        "for i in range(4):\n",
        "  if np.linalg.matrix_rank(A)+i <= 4:\n",
        "    print(V.T[:,r_R+i],end=\" \")\n",
        ""
      ],
      "metadata": {
        "colab": {
          "base_uri": "https://localhost:8080/"
        },
        "id": "kW9DQayTSusg",
        "outputId": "7c119f57-f16f-4074-8aa2-4324374b4b8d"
      },
      "execution_count": 57,
      "outputs": [
        {
          "output_type": "stream",
          "name": "stdout",
          "text": [
            "[-0.82775801 -0.32212404  0.27591934 -0.32853773 -0.16426886] [ 0.38155721 -0.90042546 -0.12718574 -0.14824807 -0.07412404] "
          ]
        }
      ]
    },
    {
      "cell_type": "code",
      "source": [
        "sq=np.array(([-0.82775801, -0.32212404,  0.27591934, -0.32853773, -0.16426886],   # matrix of the both basis\n",
        " [ 0.38155721, -0.90042546, -0.12718574, -0.14824807, -0.07412404],\n",
        "  [-0.87219483,  0.3573579,   0.29073161, -0.14709627, -0.07354813],\n",
        "   [ 0.26466093,  0.8870317,  -0.08822031,  0.32905504,  0.16452752]))\n",
        "sq"
      ],
      "metadata": {
        "colab": {
          "base_uri": "https://localhost:8080/"
        },
        "id": "a9041sh0Vu5y",
        "outputId": "75430d42-1891-4305-971b-e819413215fe"
      },
      "execution_count": 58,
      "outputs": [
        {
          "output_type": "execute_result",
          "data": {
            "text/plain": [
              "array([[-0.82775801, -0.32212404,  0.27591934, -0.32853773, -0.16426886],\n",
              "       [ 0.38155721, -0.90042546, -0.12718574, -0.14824807, -0.07412404],\n",
              "       [-0.87219483,  0.3573579 ,  0.29073161, -0.14709627, -0.07354813],\n",
              "       [ 0.26466093,  0.8870317 , -0.08822031,  0.32905504,  0.16452752]])"
            ]
          },
          "metadata": {},
          "execution_count": 58
        }
      ]
    },
    {
      "cell_type": "code",
      "source": [
        "np.linalg.matrix_rank(sq)"
      ],
      "metadata": {
        "colab": {
          "base_uri": "https://localhost:8080/"
        },
        "id": "na0wQnk-WfqE",
        "outputId": "fbfc65fe-4cb0-40f9-94a3-06b0954de62a"
      },
      "execution_count": 48,
      "outputs": [
        {
          "output_type": "execute_result",
          "data": {
            "text/plain": [
              "4"
            ]
          },
          "metadata": {},
          "execution_count": 48
        }
      ]
    },
    {
      "cell_type": "markdown",
      "source": [
        " from above we can conclude that both null space are not equal. as one can't  span other."
      ],
      "metadata": {
        "id": "_jK1D4KfcU8y"
      }
    }
  ]
}