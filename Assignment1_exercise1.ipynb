{
  "nbformat": 4,
  "nbformat_minor": 0,
  "metadata": {
    "colab": {
      "provenance": [],
      "authorship_tag": "ABX9TyNfaRed0cAyuBZtPO+4qW+v",
      "include_colab_link": true
    },
    "kernelspec": {
      "name": "python3",
      "display_name": "Python 3"
    },
    "language_info": {
      "name": "python"
    }
  },
  "cells": [
    {
      "cell_type": "markdown",
      "metadata": {
        "id": "view-in-github",
        "colab_type": "text"
      },
      "source": [
        "<a href=\"https://colab.research.google.com/github/PrasantIITM/ma22c033_2023_PL/blob/main/Assignment1_exercise1.ipynb\" target=\"_parent\"><img src=\"https://colab.research.google.com/assets/colab-badge.svg\" alt=\"Open In Colab\"/></a>"
      ]
    },
    {
      "cell_type": "code",
      "execution_count": null,
      "metadata": {
        "id": "4owqfL_ngd4U"
      },
      "outputs": [],
      "source": [
        "i=int(input(\"Enter the positive integer for power \"))\n",
        "n=int(input(\"Enter Your desire positive integer upto which you want the sum \"))\n",
        "sum=0\n",
        "for x in range (1,n+1):\n",
        "  y=x**i\n",
        "  sum+=y\n",
        "\n",
        "print(sum)\n"
      ]
    }
  ]
}