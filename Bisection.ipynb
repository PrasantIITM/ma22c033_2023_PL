{
  "nbformat": 4,
  "nbformat_minor": 0,
  "metadata": {
    "colab": {
      "provenance": [],
      "authorship_tag": "ABX9TyNQ8sIgtkScSlnOgbEEMRzh",
      "include_colab_link": true
    },
    "kernelspec": {
      "name": "python3",
      "display_name": "Python 3"
    },
    "language_info": {
      "name": "python"
    }
  },
  "cells": [
    {
      "cell_type": "markdown",
      "metadata": {
        "id": "view-in-github",
        "colab_type": "text"
      },
      "source": [
        "<a href=\"https://colab.research.google.com/github/PrasantIITM/ma22c033_2023_PL/blob/main/Bisection.ipynb\" target=\"_parent\"><img src=\"https://colab.research.google.com/assets/colab-badge.svg\" alt=\"Open In Colab\"/></a>"
      ]
    },
    {
      "cell_type": "code",
      "execution_count": 56,
      "metadata": {
        "id": "R5bGAk0L0vF6"
      },
      "outputs": [],
      "source": [
        "import math\n"
      ]
    },
    {
      "cell_type": "code",
      "source": [
        "\n",
        "def bisection(f,a,b,eps,niters): #(a,b) is the interval where we try to find the solution\n",
        "# eps work as stop the subdivision (b-a)/2^{-n} <= eps\n",
        "#niters is the maximal number of iteratio
        "  if f(a)*f(b)>0:\n",
        "      raise ValueError(\"Please Enter 'a' and 'b' such that f(a)*f(b)<0\")\n"
        "  for i in range(niters): # here i couts the number of itetration\n",
        "    m=(a+b)/2\n",
        "    if f(m)==0 or (b-a)/2 <eps:\n",
        "      return m\n",
        "    elif f(a)*f(m)<0:\n",
        "      b=m\n",
        "    else:\n",
        "      a=m\n",
        "  return m\n",
        ""
      ],
      "metadata": {
        "id": "CzXHtA1e1Hki"
      },
      "execution_count": 57,
      "outputs": []
    },
    {
      "cell_type": "code",
      "source": [
        "def ex_func(x):\n",
        "  return #your function\n",
        "  # here we can define polynomial function , expoential function or other function whic is not in math library"
      ],
      "metadata": {
        "id": "P8lyJYJNRcuR"
      },
      "execution_count": 60,
      "outputs": []
    },
    {
      "cell_type": "code",
      "source": [
        "#bisection(f,a,b,eps,niters)"
      ],
      "metadata": {
        "id": "uYKtPSCZYzUj"
      },
      "execution_count": null,
      "outputs": []
    },
    {
      "cell_type": "markdown",
      "source": [
        "Uncomment the above code and enter your function f and interval (a,b) and eps and maximum iteration(niters)."
      ],
      "metadata": {
        "id": "9fKfeH-5ZGG6"
      }
    }
  ]
}
