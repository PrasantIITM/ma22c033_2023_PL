{
  "nbformat": 4,
  "nbformat_minor": 0,
  "metadata": {
    "colab": {
      "provenance": [],
      "authorship_tag": "ABX9TyPClsurbD+uscSUHIj79ggZ",
      "include_colab_link": true
    },
    "kernelspec": {
      "name": "python3",
      "display_name": "Python 3"
    },
    "language_info": {
      "name": "python"
    }
  },
  "cells": [
    {
      "cell_type": "markdown",
      "metadata": {
        "id": "view-in-github",
        "colab_type": "text"
      },
      "source": [
        "<a href=\"https://colab.research.google.com/github/PrasantIITM/ma22c033_2023_PL/blob/main/Assignment%2011/Insurance_company.ipynb\" target=\"_parent\"><img src=\"https://colab.research.google.com/assets/colab-badge.svg\" alt=\"Open In Colab\"/></a>"
      ]
    },
    {
      "cell_type": "code",
      "execution_count": 1,
      "metadata": {
        "colab": {
          "base_uri": "https://localhost:8080/"
        },
        "id": "WcXR8SJP0B9-",
        "outputId": "a776be1b-7890-482b-f73e-23b0cd87a2c1"
      },
      "outputs": [
        {
          "output_type": "stream",
          "name": "stdout",
          "text": [
            "Probability of ruin: 0.0206\n"
          ]
        }
      ],
      "source": [
        "def probability_of_ruin(initial_reserve, daily_earnings, claim_probability):\n",
        "    # Create a list to store the probabilities of ruin for each reserve value.\n",
        "    # Initialize with all probabilities as 0.\n",
        "    P = [0.0] * (initial_reserve + 1)\n",
        "\n",
        "    # Base case: P(0) = 1 (company is already ruined when reserve is 0).\n",
        "    P[0] = 1.0\n",
        "\n",
        "    # Iterate from 1 to the initial reserve.\n",
        "    for r in range(1, initial_reserve + 1):\n",
        "        # Calculate the probability of earning $100 and the probability of incurring a $200 claim.\n",
        "        p_earn = 1 - claim_probability\n",
        "        p_claim = claim_probability\n",
        "\n",
        "        # Calculate P(r) using the recursive relationship.\n",
        "        P[r] = p_earn * P[min(r + daily_earnings, initial_reserve)] + p_claim * P[max(r - 2*daily_earnings, 0)]\n",
        "\n",
        "    # The probability of ruin starting with the initial reserve is P(initial_reserve).\n",
        "    return P[initial_reserve]\n",
        "\n",
        "# Parameters\n",
        "initial_reserve = 1000\n",
        "daily_earnings = 100\n",
        "claim_probability = 0.46\n",
        "\n",
        "# Calculate the probability of ruin\n",
        "probability_ruin = probability_of_ruin(initial_reserve, daily_earnings, claim_probability)\n",
        "print(f\"Probability of ruin: {probability_ruin:.4f}\")"
      ]
    },
    {
      "cell_type": "code",
      "source": [
        "r=0\n",
        "while probability_of_ruin(r, daily_earnings, claim_probability) > 0.001:\n",
        "    r=r+1\n",
        "print(\"The reserve to make the probability of the ruin less than 0.1% is:\",r)"
      ],
      "metadata": {
        "colab": {
          "base_uri": "https://localhost:8080/"
        },
        "id": "SY1pv7u00tRn",
        "outputId": "f91fc061-bb33-49a5-d2d0-ea308101791f"
      },
      "execution_count": 2,
      "outputs": [
        {
          "output_type": "stream",
          "name": "stdout",
          "text": [
            "The reserve to make the probability of the ruin less than 0.1% is: 1601\n"
          ]
        }
      ]
    },
    {
      "cell_type": "code",
      "source": [
        "reserve=1601\n",
        "\n",
        "probability_ruin = probability_of_ruin(reserve, daily_earnings, claim_probability)\n",
        "print(f\"With 1601 reserve the probability of ruin is {probability_ruin:.4f} which is less than 0.001\")"
      ],
      "metadata": {
        "colab": {
          "base_uri": "https://localhost:8080/"
        },
        "id": "bEWMM-c30vyD",
        "outputId": "2a87f86e-eb22-42db-9ff4-e8ffdf7aa1bf"
      },
      "execution_count": 3,
      "outputs": [
        {
          "output_type": "stream",
          "name": "stdout",
          "text": [
            "With 1601 reserve the probability of ruin is 0.0009 which is less than 0.001\n"
          ]
        }
      ]
    }
  ]
}