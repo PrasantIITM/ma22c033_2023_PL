{
  "nbformat": 4,
  "nbformat_minor": 0,
  "metadata": {
    "colab": {
      "provenance": [],
      "toc_visible": true,
      "authorship_tag": "ABX9TyNbk7g7md4XoKHDwBdAQG6D",
      "include_colab_link": true
    },
    "kernelspec": {
      "name": "python3",
      "display_name": "Python 3"
    },
    "language_info": {
      "name": "python"
    }
  },
  "cells": [
    {
      "cell_type": "markdown",
      "metadata": {
        "id": "view-in-github",
        "colab_type": "text"
      },
      "source": [
        "<a href=\"https://colab.research.google.com/github/PrasantIITM/ma22c033_2023_PL/blob/main/Assignment%205/Row_swap.ipynb\" target=\"_parent\"><img src=\"https://colab.research.google.com/assets/colab-badge.svg\" alt=\"Open In Colab\"/></a>"
      ]
    },
    {
      "cell_type": "code",
      "execution_count": 2,
      "metadata": {
        "id": "gPgeub41NdtJ"
      },
      "outputs": [],
      "source": [
        "import numpy as np\n"
      ]
    },
    {
      "cell_type": "code",
      "source": [
        "def swaprow(i, j, A):\n",
        "    tmp = A[i, :]\n",
        "    A[i, :] = A[j, :]\n",
        "    A[j, :] = tmp\n",
        "    return A\n",
        "\n",
        "A = np.array([[1, 3, 2],\n",
        "              [5, 5, 6],\n",
        "              [4, 7, 9]])\n",
        "result = swaprow(0, 2, A)\n",
        "print(result)"
      ],
      "metadata": {
        "id": "5cxickGUNiAK",
        "colab": {
          "base_uri": "https://localhost:8080/"
        },
        "outputId": "ccb5d0d3-61ea-4cd6-e033-c1b43514144c"
      },
      "execution_count": 5,
      "outputs": [
        {
          "output_type": "stream",
          "name": "stdout",
          "text": [
            "[[4 7 9]\n",
            " [5 5 6]\n",
            " [4 7 9]]\n"
          ]
        }
      ]
    },
    {
      "cell_type": "code",
      "source": [
        "def swaprow(i, j, A):\n",
        "    tmp = A[i, :].copy()  # Make a copy of the row by which the value  of tmp not change if we change velue of A[i,:]\n",
        "    A[i, :] = A[j, :]\n",
        "    A[j, :] = tmp\n",
        "    return A\n",
        "A = np.array([[1, 3, 2],\n",
        "              [5, 5, 6],\n",
        "              [4, 7, 9]])\n",
        "result = swaprow(0, 2, A)\n",
        "print(result)"
      ],
      "metadata": {
        "id": "bs3imTdiNm1h",
        "colab": {
          "base_uri": "https://localhost:8080/"
        },
        "outputId": "1567e17c-ea68-4b93-de6b-4dc9bf3ba7fc"
      },
      "execution_count": 6,
      "outputs": [
        {
          "output_type": "stream",
          "name": "stdout",
          "text": [
            "[[4 7 9]\n",
            " [5 5 6]\n",
            " [1 3 2]]\n"
          ]
        }
      ]
    }
  ]
}