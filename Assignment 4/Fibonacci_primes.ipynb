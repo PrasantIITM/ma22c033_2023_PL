{
  "nbformat": 4,
  "nbformat_minor": 0,
  "metadata": {
    "colab": {
      "provenance": [],
      "authorship_tag": "ABX9TyPk6CVX/TghQf8MLj7gI2+G",
      "include_colab_link": true
    },
    "kernelspec": {
      "name": "python3",
      "display_name": "Python 3"
    },
    "language_info": {
      "name": "python"
    }
  },
  "cells": [
    {
      "cell_type": "markdown",
      "metadata": {
        "id": "view-in-github",
        "colab_type": "text"
      },
      "source": [
        "<a href=\"https://colab.research.google.com/github/PrasantIITM/ma22c033_2023_PL/blob/main/Assignment%204/Fibonacci_primes.ipynb\" target=\"_parent\"><img src=\"https://colab.research.google.com/assets/colab-badge.svg\" alt=\"Open In Colab\"/></a>"
      ]
    },
    {
      "cell_type": "markdown",
      "source": [
        "**Generator expressions**"
      ],
      "metadata": {
        "id": "-aYKtJz3xJe0"
      }
    },
    {
      "cell_type": "code",
      "execution_count": null,
      "metadata": {
        "id": "hPraxk7Qw3p2"
      },
      "outputs": [],
      "source": [
        "i=2; N=10\n",
        "\n",
        "L = [n**i for n in range(1, N)]"
      ]
    },
    {
      "cell_type": "code",
      "source": [
        "G = (n**i for n in range(1, N))"
      ],
      "metadata": {
        "id": "o_jpHd1yxX4i"
      },
      "execution_count": null,
      "outputs": []
    },
    {
      "cell_type": "code",
      "source": [
        "[l for l in L]"
      ],
      "metadata": {
        "colab": {
          "base_uri": "https://localhost:8080/"
        },
        "id": "4F1nciMoxZIi",
        "outputId": "02568659-6590-473b-fa43-cf14863b2855"
      },
      "execution_count": null,
      "outputs": [
        {
          "output_type": "execute_result",
          "data": {
            "text/plain": [
              "[1, 4, 9, 16, 25, 36, 49, 64, 81]"
            ]
          },
          "metadata": {},
          "execution_count": 47
        }
      ]
    },
    {
      "cell_type": "code",
      "source": [
        "[g for g in G]"
      ],
      "metadata": {
        "colab": {
          "base_uri": "https://localhost:8080/"
        },
        "id": "setb77Dix6p7",
        "outputId": "f8919a42-fefd-4266-8d0a-77a9d70df197"
      },
      "execution_count": null,
      "outputs": [
        {
          "output_type": "execute_result",
          "data": {
            "text/plain": [
              "[1, 4, 9, 16, 25, 36, 49, 64, 81]"
            ]
          },
          "metadata": {},
          "execution_count": 48
        }
      ]
    },
    {
      "cell_type": "code",
      "source": [
        "[g for g in G]"
      ],
      "metadata": {
        "colab": {
          "base_uri": "https://localhost:8080/"
        },
        "id": "Y_RCFhYqx9XK",
        "outputId": "d4cf12b9-7b93-469f-a554-7ed2571d9251"
      },
      "execution_count": null,
      "outputs": [
        {
          "output_type": "execute_result",
          "data": {
            "text/plain": [
              "[]"
            ]
          },
          "metadata": {},
          "execution_count": 49
        }
      ]
    },
    {
      "cell_type": "markdown",
      "source": [
        "**Generator functions**"
      ],
      "metadata": {
        "id": "wDbp0fPIyorh"
      }
    },
    {
      "cell_type": "code",
      "source": [
        "def GG():\n",
        "    for n in range(1, N):\n",
        "        yield n**i"
      ],
      "metadata": {
        "id": "-vz6wolryI4i"
      },
      "execution_count": null,
      "outputs": []
    },
    {
      "cell_type": "code",
      "source": [
        "G2 = GG()\n",
        "print(*G2)  # see that you get the same values as before"
      ],
      "metadata": {
        "colab": {
          "base_uri": "https://localhost:8080/"
        },
        "id": "uhe37Jviy0jK",
        "outputId": "77821488-a297-4312-c5d7-fffee1239028"
      },
      "execution_count": null,
      "outputs": [
        {
          "output_type": "stream",
          "name": "stdout",
          "text": [
            "1 4 9 16 25 36 49 64 81\n"
          ]
        }
      ]
    },
    {
      "cell_type": "code",
      "source": [
        "G2 = GG()\n",
        "\n",
        "# get the first 3 values of the sequence using next:\n",
        "\n",
        "next(G2), next(G2), next(G2)"
      ],
      "metadata": {
        "colab": {
          "base_uri": "https://localhost:8080/"
        },
        "id": "98LbEC2WzgxO",
        "outputId": "33df91e6-4a31-4093-d307-f5fef35ad078"
      },
      "execution_count": null,
      "outputs": [
        {
          "output_type": "execute_result",
          "data": {
            "text/plain": [
              "(1, 4, 9)"
            ]
          },
          "metadata": {},
          "execution_count": 52
        }
      ]
    },
    {
      "cell_type": "code",
      "source": [
        "print(*G2)   # print the remaining values of the sequence"
      ],
      "metadata": {
        "colab": {
          "base_uri": "https://localhost:8080/"
        },
        "id": "0MNV7yc-zlhF",
        "outputId": "45894c23-ccd8-4832-ab2e-61052e4a0c56"
      },
      "execution_count": null,
      "outputs": [
        {
          "output_type": "stream",
          "name": "stdout",
          "text": [
            "16 25 36 49 64 81\n"
          ]
        }
      ]
    },
    {
      "cell_type": "markdown",
      "source": [
        "**Disposable generators or reusable lists?**"
      ],
      "metadata": {
        "id": "BZmF8yJz0MGi"
      }
    },
    {
      "cell_type": "code",
      "source": [
        "i = -20\n",
        "N = 10**8"
      ],
      "metadata": {
        "id": "O1lCaeZKzmZl"
      },
      "execution_count": null,
      "outputs": []
    },
    {
      "cell_type": "code",
      "source": [
        "pip install memory_profiler"
      ],
      "metadata": {
        "colab": {
          "base_uri": "https://localhost:8080/"
        },
        "id": "5XOM9dq50sg2",
        "outputId": "d69e843d-abf8-4981-db5d-e89afbbef757"
      },
      "execution_count": null,
      "outputs": [
        {
          "output_type": "stream",
          "name": "stdout",
          "text": [
            "Requirement already satisfied: memory_profiler in /usr/local/lib/python3.10/dist-packages (0.61.0)\n",
            "Requirement already satisfied: psutil in /usr/local/lib/python3.10/dist-packages (from memory_profiler) (5.9.5)\n"
          ]
        }
      ]
    },
    {
      "cell_type": "code",
      "source": [
        "%load_ext memory_profiler"
      ],
      "metadata": {
        "id": "_CgrRDU80U9R",
        "colab": {
          "base_uri": "https://localhost:8080/"
        },
        "outputId": "16d69feb-9e75-43c8-fb49-a58d9ba99e70"
      },
      "execution_count": null,
      "outputs": [
        {
          "output_type": "stream",
          "name": "stdout",
          "text": [
            "The memory_profiler extension is already loaded. To reload it, use:\n",
            "  %reload_ext memory_profiler\n"
          ]
        }
      ]
    },
    {
      "cell_type": "code",
      "source": [
        "%memit sum([n**i for n in range(1, N)])"
      ],
      "metadata": {
        "colab": {
          "base_uri": "https://localhost:8080/"
        },
        "id": "NbbLl2AJ0deR",
        "outputId": "7b4e37e4-89f7-45c8-d332-a34e0e306b75"
      },
      "execution_count": null,
      "outputs": [
        {
          "output_type": "stream",
          "name": "stdout",
          "text": [
            "peak memory: 3938.29 MiB, increment: 3808.86 MiB\n"
          ]
        }
      ]
    },
    {
      "cell_type": "code",
      "source": [
        "G3 = (n**i for n in range(1, N))\n",
        "\n",
        "s = 0\n",
        "\n",
        "for g in G3:\n",
        "    s += g\n",
        "    if g < 1e-15:\n",
        "        break\n",
        "\n",
        "print(s)"
      ],
      "metadata": {
        "colab": {
          "base_uri": "https://localhost:8080/"
        },
        "id": "UPvS8A5P08ri",
        "outputId": "6a214954-3d29-4d2f-f96d-a693976897b9"
      },
      "execution_count": null,
      "outputs": [
        {
          "output_type": "stream",
          "name": "stdout",
          "text": [
            "1.0000009539620338\n"
          ]
        }
      ]
    },
    {
      "cell_type": "markdown",
      "source": [
        "**Infinite sequences**"
      ],
      "metadata": {
        "id": "RP3zEWsf2AK4"
      }
    },
    {
      "cell_type": "code",
      "source": [
        "def natural_numbers():\n",
        "    n = 0\n",
        "    while True:\n",
        "        yield n\n",
        "        n += 1"
      ],
      "metadata": {
        "id": "HDQlYnvX19CB"
      },
      "execution_count": null,
      "outputs": []
    },
    {
      "cell_type": "code",
      "source": [
        "for n in natural_numbers():\n",
        "    print(n)\n",
        "    if n >= 5:  break   # don't go into infinite loop!"
      ],
      "metadata": {
        "colab": {
          "base_uri": "https://localhost:8080/"
        },
        "id": "VVXDwonQ2dDQ",
        "outputId": "b1f05c22-3bf8-49d7-bcd2-5156b5748ddb"
      },
      "execution_count": null,
      "outputs": [
        {
          "output_type": "stream",
          "name": "stdout",
          "text": [
            "0\n",
            "1\n",
            "2\n",
            "3\n",
            "4\n",
            "5\n"
          ]
        }
      ]
    },
    {
      "cell_type": "markdown",
      "source": [
        "**Fibonacci generator**"
      ],
      "metadata": {
        "id": "W0qymR_Q20lY"
      }
    },
    {
      "cell_type": "code",
      "source": [
        "def fibonacci(max):\n",
        "    f, fnext = 0, 1\n",
        "    while f < max:\n",
        "        yield f\n",
        "        f, fnext = fnext, f + fnext"
      ],
      "metadata": {
        "id": "i5nJehhK2k-X"
      },
      "execution_count": null,
      "outputs": []
    },
    {
      "cell_type": "code",
      "source": [
        "Fn = fibonacci(10000)\n",
        "print(*Fn)"
      ],
      "metadata": {
        "colab": {
          "base_uri": "https://localhost:8080/"
        },
        "id": "GKzxzyKD3Fv-",
        "outputId": "015b53d4-4265-4868-e8fb-2046944e277a"
      },
      "execution_count": null,
      "outputs": [
        {
          "output_type": "stream",
          "name": "stdout",
          "text": [
            "0 1 1 2 3 5 8 13 21 34 55 89 144 233 377 610 987 1597 2584 4181 6765\n"
          ]
        }
      ]
    },
    {
      "cell_type": "markdown",
      "source": [
        "**Prime number generator**"
      ],
      "metadata": {
        "id": "qmT2OxpK3oQI"
      }
    },
    {
      "cell_type": "code",
      "source": [
        "P = [2, 3]"
      ],
      "metadata": {
        "id": "5E8J5P2P3P_P"
      },
      "execution_count": null,
      "outputs": []
    },
    {
      "cell_type": "code",
      "source": [
        "[4 % p for p in P]"
      ],
      "metadata": {
        "colab": {
          "base_uri": "https://localhost:8080/"
        },
        "id": "x9KNOSwX38gA",
        "outputId": "598a6693-533f-4af5-9c6a-a95e2fc51620"
      },
      "execution_count": null,
      "outputs": [
        {
          "output_type": "execute_result",
          "data": {
            "text/plain": [
              "[0, 1]"
            ]
          },
          "metadata": {},
          "execution_count": 64
        }
      ]
    },
    {
      "cell_type": "code",
      "source": [
        "all([4 % p for p in P])"
      ],
      "metadata": {
        "colab": {
          "base_uri": "https://localhost:8080/"
        },
        "id": "StorPBB85Uj_",
        "outputId": "80c536ed-d8a5-4add-80e2-e697a4042c18"
      },
      "execution_count": null,
      "outputs": [
        {
          "output_type": "execute_result",
          "data": {
            "text/plain": [
              "False"
            ]
          },
          "metadata": {},
          "execution_count": 65
        }
      ]
    },
    {
      "cell_type": "code",
      "source": [
        "all([0,1])"
      ],
      "metadata": {
        "colab": {
          "base_uri": "https://localhost:8080/"
        },
        "id": "90Xn3oj06gIG",
        "outputId": "bd25121a-5e23-4dd2-a167-59748df4acf2"
      },
      "execution_count": null,
      "outputs": [
        {
          "output_type": "execute_result",
          "data": {
            "text/plain": [
              "False"
            ]
          },
          "metadata": {},
          "execution_count": 66
        }
      ]
    },
    {
      "cell_type": "code",
      "source": [
        "all([5 % p for p in P])"
      ],
      "metadata": {
        "colab": {
          "base_uri": "https://localhost:8080/"
        },
        "id": "XPNhWJyH5pvn",
        "outputId": "8fb8b497-eeb8-46ae-b539-049456bd985e"
      },
      "execution_count": null,
      "outputs": [
        {
          "output_type": "execute_result",
          "data": {
            "text/plain": [
              "True"
            ]
          },
          "metadata": {},
          "execution_count": 67
        }
      ]
    },
    {
      "cell_type": "code",
      "source": [
        "all([i/2==0 for i in range(0,20)])"
      ],
      "metadata": {
        "colab": {
          "base_uri": "https://localhost:8080/"
        },
        "id": "1ME3aXgs6BKG",
        "outputId": "643acfc2-3464-474c-8bb7-2611a007467c"
      },
      "execution_count": null,
      "outputs": [
        {
          "output_type": "execute_result",
          "data": {
            "text/plain": [
              "False"
            ]
          },
          "metadata": {},
          "execution_count": 68
        }
      ]
    },
    {
      "cell_type": "code",
      "source": [
        "def prime_numbers(N):\n",
        "    primes = []\n",
        "    q = 1\n",
        "    for n in range(q+1, N):\n",
        "        if all(n % p > 0 for p in primes):\n",
        "            primes.append(n)\n",
        "            q = n\n",
        "            yield n"
      ],
      "metadata": {
        "id": "boQF4p6M7IyW"
      },
      "execution_count": null,
      "outputs": []
    },
    {
      "cell_type": "code",
      "source": [
        "list(prime_numbers(70))"
      ],
      "metadata": {
        "colab": {
          "base_uri": "https://localhost:8080/"
        },
        "id": "J4b6fo617Lr2",
        "outputId": "7320009b-083c-4060-e109-bbfafa2efb26"
      },
      "execution_count": null,
      "outputs": [
        {
          "output_type": "execute_result",
          "data": {
            "text/plain": [
              "[2, 3, 5, 7, 11, 13, 17, 19, 23, 29, 31, 37, 41, 43, 47, 53, 59, 61, 67]"
            ]
          },
          "metadata": {},
          "execution_count": 70
        }
      ]
    },
    {
      "cell_type": "markdown",
      "source": [
        "**First few Fibonacci primes**"
      ],
      "metadata": {
        "id": "meTLcvz98rnd"
      }
    },
    {
      "cell_type": "code",
      "source": [
        "def fibonacci_primes(N):\n",
        "    F = set(fibonacci(N))\n",
        "    P = set(prime_numbers(N))\n",
        "    print('Intersecting', len(P), 'primes with', len(F), 'fibonaccis.')\n",
        "    return P.intersection(F)\n",
        "fibonacci_primes(100000)"
      ],
      "metadata": {
        "colab": {
          "base_uri": "https://localhost:8080/"
        },
        "id": "o4VyfmYx8xmY",
        "outputId": "7fb1caa6-d93a-4a43-9aeb-40a71acd5762"
      },
      "execution_count": null,
      "outputs": [
        {
          "output_type": "stream",
          "name": "stdout",
          "text": [
            "Intersecting 9592 primes with 25 fibonaccis.\n"
          ]
        },
        {
          "output_type": "execute_result",
          "data": {
            "text/plain": [
              "{2, 3, 5, 13, 89, 233, 1597, 28657}"
            ]
          },
          "metadata": {},
          "execution_count": 71
        }
      ]
    },
    {
      "cell_type": "markdown",
      "source": [
        "**Verification**"
      ],
      "metadata": {
        "id": "TXiy_Dnd9OJ1"
      }
    },
    {
      "cell_type": "code",
      "source": [
        "nFP = [3, 4, 5, 7, 11, 13, 17, 23, 29, 43]"
      ],
      "metadata": {
        "id": "xrEmtkQi9QB9"
      },
      "execution_count": null,
      "outputs": []
    },
    {
      "cell_type": "code",
      "source": [
        "def test_fibonacci_prime():\n",
        "    N = 10000\n",
        "    F = list(fibonacci(N))\n",
        "    nFP = [3, 4, 5, 7, 11, 13, 17, 23, 29, 43]\n",
        "\n",
        "    our_list = fibonacci_primes(N)\n",
        "    known_list = set([F[n] for n in nFP if n < len(F)])\n",
        "\n",
        "    assert len(known_list.difference(our_list))==0, 'We have a bug!'\n",
        "    print('Passed test!')"
      ],
      "metadata": {
        "id": "rJwXDPey9XCd"
      },
      "execution_count": null,
      "outputs": []
    },
    {
      "cell_type": "code",
      "source": [
        "test_fibonacci_prime()"
      ],
      "metadata": {
        "id": "gDmYAq5W9p49",
        "outputId": "278f8d60-fdeb-4048-9bb9-3d5da610c712",
        "colab": {
          "base_uri": "https://localhost:8080/"
        }
      },
      "execution_count": null,
      "outputs": [
        {
          "output_type": "stream",
          "name": "stdout",
          "text": [
            "Intersecting 1229 primes with 20 fibonaccis.\n",
            "Passed test!\n"
          ]
        }
      ]
    },
    {
      "cell_type": "code",
      "source": [
        "import primesieve"
      ],
      "metadata": {
        "id": "y2vELZCISP4o"
      },
      "execution_count": null,
      "outputs": []
    },
    {
      "cell_type": "code",
      "source": [
        "from primesieve import primes    # do after you have installed primesieve\n",
        "list(primes(70))"
      ],
      "metadata": {
        "id": "RTUzyJSGFxbc"
      },
      "execution_count": null,
      "outputs": []
    }
  ]
}