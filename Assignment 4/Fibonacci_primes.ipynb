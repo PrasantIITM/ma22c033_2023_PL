{
  "nbformat": 4,
  "nbformat_minor": 0,
  "metadata": {
    "colab": {
      "provenance": [],
      "authorship_tag": "ABX9TyMoCkTUP8rCwqWBF1cWNDLK",
      "include_colab_link": true
    },
    "kernelspec": {
      "name": "python3",
      "display_name": "Python 3"
    },
    "language_info": {
      "name": "python"
    }
  },
  "cells": [
    {
      "cell_type": "markdown",
      "metadata": {
        "id": "view-in-github",
        "colab_type": "text"
      },
      "source": [
        "<a href=\"https://colab.research.google.com/github/PrasantIITM/ma22c033_2023_PL/blob/main/Assignment%204/Fibonacci_primes.ipynb\" target=\"_parent\"><img src=\"https://colab.research.google.com/assets/colab-badge.svg\" alt=\"Open In Colab\"/></a>"
      ]
    },
    {
      "cell_type": "markdown",
      "source": [
        "**Generator expressions**"
      ],
      "metadata": {
        "id": "-aYKtJz3xJe0"
      }
    },
    {
      "cell_type": "code",
      "execution_count": 1,
      "metadata": {
        "id": "hPraxk7Qw3p2"
      },
      "outputs": [],
      "source": [
        "i=2; N=10\n",
        "\n",
        "L = [n**i for n in range(1, N)]"
      ]
    },
    {
      "cell_type": "code",
      "source": [
        "G = (n**i for n in range(1, N))"
      ],
      "metadata": {
        "id": "o_jpHd1yxX4i"
      },
      "execution_count": 2,
      "outputs": []
    },
    {
      "cell_type": "code",
      "source": [
        "[l for l in L]"
      ],
      "metadata": {
        "colab": {
          "base_uri": "https://localhost:8080/"
        },
        "id": "4F1nciMoxZIi",
        "outputId": "f302e949-d4e1-4767-a95d-b44c548d5acc"
      },
      "execution_count": 3,
      "outputs": [
        {
          "output_type": "execute_result",
          "data": {
            "text/plain": [
              "[1, 4, 9, 16, 25, 36, 49, 64, 81]"
            ]
          },
          "metadata": {},
          "execution_count": 3
        }
      ]
    },
    {
      "cell_type": "code",
      "source": [
        "[g for g in G]"
      ],
      "metadata": {
        "colab": {
          "base_uri": "https://localhost:8080/"
        },
        "id": "setb77Dix6p7",
        "outputId": "decb947b-52fd-4424-99db-c9d4fbcce1ba"
      },
      "execution_count": 4,
      "outputs": [
        {
          "output_type": "execute_result",
          "data": {
            "text/plain": [
              "[1, 4, 9, 16, 25, 36, 49, 64, 81]"
            ]
          },
          "metadata": {},
          "execution_count": 4
        }
      ]
    },
    {
      "cell_type": "code",
      "source": [
        "[g for g in G]"
      ],
      "metadata": {
        "colab": {
          "base_uri": "https://localhost:8080/"
        },
        "id": "Y_RCFhYqx9XK",
        "outputId": "7fe82a2d-3ce5-4d2f-90ed-8a0f75cac581"
      },
      "execution_count": 5,
      "outputs": [
        {
          "output_type": "execute_result",
          "data": {
            "text/plain": [
              "[]"
            ]
          },
          "metadata": {},
          "execution_count": 5
        }
      ]
    },
    {
      "cell_type": "markdown",
      "source": [
        "**Generator functions**"
      ],
      "metadata": {
        "id": "wDbp0fPIyorh"
      }
    },
    {
      "cell_type": "code",
      "source": [
        "def GG():\n",
        "    for n in range(1, N):\n",
        "        yield n**i"
      ],
      "metadata": {
        "id": "-vz6wolryI4i"
      },
      "execution_count": 6,
      "outputs": []
    },
    {
      "cell_type": "code",
      "source": [
        "G2 = GG()\n",
        "print(*G2)  # see that you get the same values as before"
      ],
      "metadata": {
        "colab": {
          "base_uri": "https://localhost:8080/"
        },
        "id": "uhe37Jviy0jK",
        "outputId": "9ee468b9-539e-44c4-f95d-50a03a046502"
      },
      "execution_count": 7,
      "outputs": [
        {
          "output_type": "stream",
          "name": "stdout",
          "text": [
            "1 4 9 16 25 36 49 64 81\n"
          ]
        }
      ]
    },
    {
      "cell_type": "code",
      "source": [
        "G2 = GG()\n",
        "\n",
        "# get the first 3 values of the sequence using next:\n",
        "\n",
        "next(G2), next(G2), next(G2)"
      ],
      "metadata": {
        "colab": {
          "base_uri": "https://localhost:8080/"
        },
        "id": "98LbEC2WzgxO",
        "outputId": "48ff356c-d138-465d-cb2c-48492c68f48c"
      },
      "execution_count": 8,
      "outputs": [
        {
          "output_type": "execute_result",
          "data": {
            "text/plain": [
              "(1, 4, 9)"
            ]
          },
          "metadata": {},
          "execution_count": 8
        }
      ]
    },
    {
      "cell_type": "code",
      "source": [
        "print(*G2)   # print the remaining values of the sequence"
      ],
      "metadata": {
        "colab": {
          "base_uri": "https://localhost:8080/"
        },
        "id": "0MNV7yc-zlhF",
        "outputId": "96459cd8-534c-440f-fa7d-c125df295dcd"
      },
      "execution_count": 9,
      "outputs": [
        {
          "output_type": "stream",
          "name": "stdout",
          "text": [
            "16 25 36 49 64 81\n"
          ]
        }
      ]
    },
    {
      "cell_type": "markdown",
      "source": [
        "**Disposable generators or reusable lists?**"
      ],
      "metadata": {
        "id": "BZmF8yJz0MGi"
      }
    },
    {
      "cell_type": "code",
      "source": [
        "i = -20\n",
        "N = 10**8"
      ],
      "metadata": {
        "id": "O1lCaeZKzmZl"
      },
      "execution_count": 10,
      "outputs": []
    },
    {
      "cell_type": "code",
      "source": [
        "pip install memory_profiler"
      ],
      "metadata": {
        "colab": {
          "base_uri": "https://localhost:8080/"
        },
        "id": "5XOM9dq50sg2",
        "outputId": "6d942a92-1a32-40a4-d65c-085ce3d498c4"
      },
      "execution_count": 11,
      "outputs": [
        {
          "output_type": "stream",
          "name": "stdout",
          "text": [
            "Collecting memory_profiler\n",
            "  Downloading memory_profiler-0.61.0-py3-none-any.whl (31 kB)\n",
            "Requirement already satisfied: psutil in /usr/local/lib/python3.10/dist-packages (from memory_profiler) (5.9.5)\n",
            "Installing collected packages: memory_profiler\n",
            "Successfully installed memory_profiler-0.61.0\n"
          ]
        }
      ]
    },
    {
      "cell_type": "code",
      "source": [
        "%load_ext memory_profiler"
      ],
      "metadata": {
        "id": "_CgrRDU80U9R"
      },
      "execution_count": 12,
      "outputs": []
    },
    {
      "cell_type": "code",
      "source": [
        "%memit sum([n**i for n in range(1, N)])"
      ],
      "metadata": {
        "colab": {
          "base_uri": "https://localhost:8080/"
        },
        "id": "NbbLl2AJ0deR",
        "outputId": "7c0d1f15-629c-4b58-eed5-eb6e209d6e9d"
      },
      "execution_count": 13,
      "outputs": [
        {
          "output_type": "stream",
          "name": "stdout",
          "text": [
            "peak memory: 3922.77 MiB, increment: 3828.88 MiB\n"
          ]
        }
      ]
    },
    {
      "cell_type": "code",
      "source": [
        "G3 = (n**i for n in range(1, N))\n",
        "\n",
        "s = 0\n",
        "\n",
        "for g in G3:\n",
        "    s += g\n",
        "    if g < 1e-15:\n",
        "        break\n",
        "\n",
        "print(s)"
      ],
      "metadata": {
        "colab": {
          "base_uri": "https://localhost:8080/"
        },
        "id": "UPvS8A5P08ri",
        "outputId": "cb464967-d198-41fa-c953-694f67b3294b"
      },
      "execution_count": 14,
      "outputs": [
        {
          "output_type": "stream",
          "name": "stdout",
          "text": [
            "1.0000009539620338\n"
          ]
        }
      ]
    },
    {
      "cell_type": "markdown",
      "source": [
        "**Infinite sequences**"
      ],
      "metadata": {
        "id": "RP3zEWsf2AK4"
      }
    },
    {
      "cell_type": "code",
      "source": [
        "def natural_numbers():\n",
        "    n = 0\n",
        "    while True:\n",
        "        yield n\n",
        "        n += 1"
      ],
      "metadata": {
        "id": "HDQlYnvX19CB"
      },
      "execution_count": 15,
      "outputs": []
    },
    {
      "cell_type": "code",
      "source": [
        "for n in natural_numbers():\n",
        "    print(n)\n",
        "    if n >= 5:  break   # don't go into infinite loop!"
      ],
      "metadata": {
        "colab": {
          "base_uri": "https://localhost:8080/"
        },
        "id": "VVXDwonQ2dDQ",
        "outputId": "49790056-9db0-4315-bd11-97ad403d9246"
      },
      "execution_count": 16,
      "outputs": [
        {
          "output_type": "stream",
          "name": "stdout",
          "text": [
            "0\n",
            "1\n",
            "2\n",
            "3\n",
            "4\n",
            "5\n"
          ]
        }
      ]
    },
    {
      "cell_type": "markdown",
      "source": [
        "**Fibonacci generator**"
      ],
      "metadata": {
        "id": "W0qymR_Q20lY"
      }
    },
    {
      "cell_type": "code",
      "source": [
        "def fibonacci(max):\n",
        "    f, fnext = 0, 1\n",
        "    while f < max:\n",
        "        yield f\n",
        "        f, fnext = fnext, f + fnext"
      ],
      "metadata": {
        "id": "i5nJehhK2k-X"
      },
      "execution_count": 17,
      "outputs": []
    },
    {
      "cell_type": "code",
      "source": [
        "Fn = fibonacci(10000)\n",
        "print(*Fn)"
      ],
      "metadata": {
        "colab": {
          "base_uri": "https://localhost:8080/"
        },
        "id": "GKzxzyKD3Fv-",
        "outputId": "398c0ea4-3e1a-4563-fb0e-3252a7eae5dd"
      },
      "execution_count": 18,
      "outputs": [
        {
          "output_type": "stream",
          "name": "stdout",
          "text": [
            "0 1 1 2 3 5 8 13 21 34 55 89 144 233 377 610 987 1597 2584 4181 6765\n"
          ]
        }
      ]
    },
    {
      "cell_type": "markdown",
      "source": [
        "**Prime number generator**"
      ],
      "metadata": {
        "id": "qmT2OxpK3oQI"
      }
    },
    {
      "cell_type": "code",
      "source": [
        "P = [2, 3]"
      ],
      "metadata": {
        "id": "5E8J5P2P3P_P"
      },
      "execution_count": 19,
      "outputs": []
    },
    {
      "cell_type": "code",
      "source": [
        "[4 % p for p in P]"
      ],
      "metadata": {
        "colab": {
          "base_uri": "https://localhost:8080/"
        },
        "id": "x9KNOSwX38gA",
        "outputId": "8d7f54f1-d119-49ce-b969-75c78b4dbfb2"
      },
      "execution_count": 20,
      "outputs": [
        {
          "output_type": "execute_result",
          "data": {
            "text/plain": [
              "[0, 1]"
            ]
          },
          "metadata": {},
          "execution_count": 20
        }
      ]
    },
    {
      "cell_type": "code",
      "source": [
        "all([4 % p for p in P])"
      ],
      "metadata": {
        "colab": {
          "base_uri": "https://localhost:8080/"
        },
        "id": "StorPBB85Uj_",
        "outputId": "19a43b60-328b-44e0-9b49-458dd7c04db0"
      },
      "execution_count": 21,
      "outputs": [
        {
          "output_type": "execute_result",
          "data": {
            "text/plain": [
              "False"
            ]
          },
          "metadata": {},
          "execution_count": 21
        }
      ]
    },
    {
      "cell_type": "code",
      "source": [
        "all([0,1])"
      ],
      "metadata": {
        "colab": {
          "base_uri": "https://localhost:8080/"
        },
        "id": "90Xn3oj06gIG",
        "outputId": "d992c92c-9da0-47cf-886b-9beb05ed3634"
      },
      "execution_count": 22,
      "outputs": [
        {
          "output_type": "execute_result",
          "data": {
            "text/plain": [
              "False"
            ]
          },
          "metadata": {},
          "execution_count": 22
        }
      ]
    },
    {
      "cell_type": "code",
      "source": [
        "all([5 % p for p in P])"
      ],
      "metadata": {
        "colab": {
          "base_uri": "https://localhost:8080/"
        },
        "id": "XPNhWJyH5pvn",
        "outputId": "17ff5490-ea26-4f03-a4e6-361f9b1b826d"
      },
      "execution_count": 23,
      "outputs": [
        {
          "output_type": "execute_result",
          "data": {
            "text/plain": [
              "True"
            ]
          },
          "metadata": {},
          "execution_count": 23
        }
      ]
    },
    {
      "cell_type": "code",
      "source": [
        "all([i/2==0 for i in range(0,20)])"
      ],
      "metadata": {
        "colab": {
          "base_uri": "https://localhost:8080/"
        },
        "id": "1ME3aXgs6BKG",
        "outputId": "8eeedf70-044f-4900-b5e2-aa6fe2e7e035"
      },
      "execution_count": 24,
      "outputs": [
        {
          "output_type": "execute_result",
          "data": {
            "text/plain": [
              "False"
            ]
          },
          "metadata": {},
          "execution_count": 24
        }
      ]
    },
    {
      "cell_type": "code",
      "source": [
        "def prime_numbers(N):\n",
        "    primes = []\n",
        "    q = 1\n",
        "    for n in range(q+1, N):\n",
        "        if all(n % p > 0 for p in primes):\n",
        "            primes.append(n)\n",
        "            q = n\n",
        "            yield n"
      ],
      "metadata": {
        "id": "boQF4p6M7IyW"
      },
      "execution_count": 25,
      "outputs": []
    },
    {
      "cell_type": "code",
      "source": [
        "list(prime_numbers(70))"
      ],
      "metadata": {
        "colab": {
          "base_uri": "https://localhost:8080/"
        },
        "id": "J4b6fo617Lr2",
        "outputId": "5319a405-443e-48c1-bf0b-677b9de3816b"
      },
      "execution_count": 26,
      "outputs": [
        {
          "output_type": "execute_result",
          "data": {
            "text/plain": [
              "[2, 3, 5, 7, 11, 13, 17, 19, 23, 29, 31, 37, 41, 43, 47, 53, 59, 61, 67]"
            ]
          },
          "metadata": {},
          "execution_count": 26
        }
      ]
    },
    {
      "cell_type": "markdown",
      "source": [
        "**First few Fibonacci primes**"
      ],
      "metadata": {
        "id": "meTLcvz98rnd"
      }
    },
    {
      "cell_type": "code",
      "source": [
        "def fibonacci_primes(N):\n",
        "    F = set(fibonacci(N))\n",
        "    P = set(prime_numbers(N))\n",
        "    print('Intersecting', len(P), 'primes with', len(F), 'fibonaccis.')\n",
        "    return P.intersection(F)\n",
        "fibonacci_primes(100000)"
      ],
      "metadata": {
        "colab": {
          "base_uri": "https://localhost:8080/"
        },
        "id": "o4VyfmYx8xmY",
        "outputId": "b675de1e-b361-48bf-caa5-a884c2a30de0"
      },
      "execution_count": 27,
      "outputs": [
        {
          "output_type": "stream",
          "name": "stdout",
          "text": [
            "Intersecting 9592 primes with 25 fibonaccis.\n"
          ]
        },
        {
          "output_type": "execute_result",
          "data": {
            "text/plain": [
              "{2, 3, 5, 13, 89, 233, 1597, 28657}"
            ]
          },
          "metadata": {},
          "execution_count": 27
        }
      ]
    },
    {
      "cell_type": "markdown",
      "source": [
        "**Verification**"
      ],
      "metadata": {
        "id": "TXiy_Dnd9OJ1"
      }
    },
    {
      "cell_type": "code",
      "source": [
        "nFP = [3, 4, 5, 7, 11, 13, 17, 23, 29, 43]"
      ],
      "metadata": {
        "id": "xrEmtkQi9QB9"
      },
      "execution_count": 28,
      "outputs": []
    },
    {
      "cell_type": "code",
      "source": [
        "def test_fibonacci_prime():\n",
        "    N = 10000\n",
        "    F = list(fibonacci(N))\n",
        "    nFP = [3, 4, 5, 7, 11, 13, 17, 23, 29, 43]\n",
        "\n",
        "    our_list = fibonacci_primes(N)\n",
        "    known_list = set([F[n] for n in nFP if n < len(F)])\n",
        "\n",
        "    assert len(known_list.difference(our_list))==0, 'We have a bug!'\n",
        "    print('Passed test!')"
      ],
      "metadata": {
        "id": "rJwXDPey9XCd"
      },
      "execution_count": 29,
      "outputs": []
    },
    {
      "cell_type": "code",
      "source": [
        "test_fibonacci_prime()"
      ],
      "metadata": {
        "id": "gDmYAq5W9p49",
        "outputId": "5d8da766-e9c2-4199-91e2-94c75a85609e",
        "colab": {
          "base_uri": "https://localhost:8080/"
        }
      },
      "execution_count": 30,
      "outputs": [
        {
          "output_type": "stream",
          "name": "stdout",
          "text": [
            "Intersecting 1229 primes with 20 fibonaccis.\n",
            "Passed test!\n"
          ]
        }
      ]
    },
    {
      "cell_type": "code",
      "source": [
        "!apt-get update                            # i copy this code from google\n",
        "!apt-get install -y primesieve             # becouse colab not support !pip install primesieve\n",
        "!apt-get install -y libprimesieve-dev"
      ],
      "metadata": {
        "id": "ZqKjdCNVq0ET",
        "outputId": "7607d84b-d9fc-413f-e908-1e65cb3e6dce",
        "colab": {
          "base_uri": "https://localhost:8080/"
        }
      },
      "execution_count": 32,
      "outputs": [
        {
          "output_type": "stream",
          "name": "stdout",
          "text": [
            "\r0% [Working]\r            \rGet:1 http://security.ubuntu.com/ubuntu jammy-security InRelease [110 kB]\n",
            "\r0% [Connecting to archive.ubuntu.com (185.125.190.36)] [1 InRelease 14.2 kB/110\r                                                                               \rGet:2 https://cloud.r-project.org/bin/linux/ubuntu jammy-cran40/ InRelease [3,626 B]\n",
            "\r0% [Waiting for headers] [1 InRelease 60.5 kB/110 kB 55%] [Connecting to ppa.la\r                                                                               \rHit:3 https://developer.download.nvidia.com/compute/cuda/repos/ubuntu2204/x86_64  InRelease\n",
            "Hit:4 http://archive.ubuntu.com/ubuntu jammy InRelease\n",
            "Get:5 http://archive.ubuntu.com/ubuntu jammy-updates InRelease [119 kB]\n",
            "Hit:6 https://ppa.launchpadcontent.net/c2d4u.team/c2d4u4.0+/ubuntu jammy InRelease\n",
            "Get:7 http://security.ubuntu.com/ubuntu jammy-security/main amd64 Packages [915 kB]\n",
            "Get:8 http://archive.ubuntu.com/ubuntu jammy-backports InRelease [109 kB]\n",
            "Get:9 http://security.ubuntu.com/ubuntu jammy-security/universe amd64 Packages [990 kB]\n",
            "Get:10 http://security.ubuntu.com/ubuntu jammy-security/restricted amd64 Packages [995 kB]\n",
            "Hit:11 https://ppa.launchpadcontent.net/deadsnakes/ppa/ubuntu jammy InRelease\n",
            "Get:12 http://archive.ubuntu.com/ubuntu jammy-updates/main amd64 Packages [1,185 kB]\n",
            "Get:13 https://ppa.launchpadcontent.net/graphics-drivers/ppa/ubuntu jammy InRelease [24.3 kB]\n",
            "Get:14 http://archive.ubuntu.com/ubuntu jammy-updates/universe amd64 Packages [1,251 kB]\n",
            "Get:15 http://archive.ubuntu.com/ubuntu jammy-updates/restricted amd64 Packages [1,015 kB]\n",
            "Get:16 http://archive.ubuntu.com/ubuntu jammy-backports/main amd64 Packages [50.3 kB]\n",
            "Get:17 http://archive.ubuntu.com/ubuntu jammy-backports/universe amd64 Packages [28.1 kB]\n",
            "Hit:18 https://ppa.launchpadcontent.net/ubuntugis/ppa/ubuntu jammy InRelease\n",
            "Get:19 https://ppa.launchpadcontent.net/graphics-drivers/ppa/ubuntu jammy/main amd64 Packages [37.3 kB]\n",
            "Fetched 6,833 kB in 2s (2,938 kB/s)\n",
            "Reading package lists... Done\n",
            "Reading package lists... Done\n",
            "Building dependency tree... Done\n",
            "Reading state information... Done\n",
            "The following additional packages will be installed:\n",
            "  libprimesieve9 primesieve-bin\n",
            "Suggested packages:\n",
            "  primesieve-doc\n",
            "The following NEW packages will be installed:\n",
            "  libprimesieve9 primesieve primesieve-bin\n",
            "0 upgraded, 3 newly installed, 0 to remove and 16 not upgraded.\n",
            "Need to get 109 kB of archives.\n",
            "After this operation, 323 kB of additional disk space will be used.\n",
            "Get:1 http://archive.ubuntu.com/ubuntu jammy/universe amd64 libprimesieve9 amd64 7.8+ds-1 [76.7 kB]\n",
            "Get:2 http://archive.ubuntu.com/ubuntu jammy/universe amd64 primesieve-bin amd64 7.8+ds-1 [28.6 kB]\n",
            "Get:3 http://archive.ubuntu.com/ubuntu jammy/universe amd64 primesieve all 7.8+ds-1 [3,212 B]\n",
            "Fetched 109 kB in 1s (194 kB/s)\n",
            "Selecting previously unselected package libprimesieve9:amd64.\n",
            "(Reading database ... 120893 files and directories currently installed.)\n",
            "Preparing to unpack .../libprimesieve9_7.8+ds-1_amd64.deb ...\n",
            "Unpacking libprimesieve9:amd64 (7.8+ds-1) ...\n",
            "Selecting previously unselected package primesieve-bin.\n",
            "Preparing to unpack .../primesieve-bin_7.8+ds-1_amd64.deb ...\n",
            "Unpacking primesieve-bin (7.8+ds-1) ...\n",
            "Selecting previously unselected package primesieve.\n",
            "Preparing to unpack .../primesieve_7.8+ds-1_all.deb ...\n",
            "Unpacking primesieve (7.8+ds-1) ...\n",
            "Setting up libprimesieve9:amd64 (7.8+ds-1) ...\n",
            "Setting up primesieve-bin (7.8+ds-1) ...\n",
            "Setting up primesieve (7.8+ds-1) ...\n",
            "Processing triggers for man-db (2.10.2-1) ...\n",
            "Processing triggers for libc-bin (2.35-0ubuntu3.1) ...\n",
            "/sbin/ldconfig.real: /usr/local/lib/libtbbmalloc.so.2 is not a symbolic link\n",
            "\n",
            "/sbin/ldconfig.real: /usr/local/lib/libtbbmalloc_proxy.so.2 is not a symbolic link\n",
            "\n",
            "/sbin/ldconfig.real: /usr/local/lib/libtbb.so.12 is not a symbolic link\n",
            "\n",
            "/sbin/ldconfig.real: /usr/local/lib/libtbbbind_2_5.so.3 is not a symbolic link\n",
            "\n",
            "/sbin/ldconfig.real: /usr/local/lib/libtbbbind.so.3 is not a symbolic link\n",
            "\n",
            "/sbin/ldconfig.real: /usr/local/lib/libtbbbind_2_0.so.3 is not a symbolic link\n",
            "\n",
            "Reading package lists... Done\n",
            "Building dependency tree... Done\n",
            "Reading state information... Done\n",
            "The following additional packages will be installed:\n",
            "  libprimesieve-dev-common\n",
            "Suggested packages:\n",
            "  primesieve-doc\n",
            "The following NEW packages will be installed:\n",
            "  libprimesieve-dev libprimesieve-dev-common\n",
            "0 upgraded, 2 newly installed, 0 to remove and 16 not upgraded.\n",
            "Need to get 101 kB of archives.\n",
            "After this operation, 487 kB of additional disk space will be used.\n",
            "Get:1 http://archive.ubuntu.com/ubuntu jammy/universe amd64 libprimesieve-dev-common all 7.8+ds-1 [14.6 kB]\n",
            "Get:2 http://archive.ubuntu.com/ubuntu jammy/universe amd64 libprimesieve-dev amd64 7.8+ds-1 [86.4 kB]\n",
            "Fetched 101 kB in 1s (175 kB/s)\n",
            "Selecting previously unselected package libprimesieve-dev-common.\n",
            "(Reading database ... 120907 files and directories currently installed.)\n",
            "Preparing to unpack .../libprimesieve-dev-common_7.8+ds-1_all.deb ...\n",
            "Unpacking libprimesieve-dev-common (7.8+ds-1) ...\n",
            "Selecting previously unselected package libprimesieve-dev:amd64.\n",
            "Preparing to unpack .../libprimesieve-dev_7.8+ds-1_amd64.deb ...\n",
            "Unpacking libprimesieve-dev:amd64 (7.8+ds-1) ...\n",
            "Setting up libprimesieve-dev-common (7.8+ds-1) ...\n",
            "Setting up libprimesieve-dev:amd64 (7.8+ds-1) ...\n"
          ]
        }
      ]
    },
    {
      "cell_type": "code",
      "source": [
        "pip install primesieve"
      ],
      "metadata": {
        "id": "Lu1j-18drQ3D",
        "outputId": "b193fbad-5344-4257-f506-e936fd02eee6",
        "colab": {
          "base_uri": "https://localhost:8080/"
        }
      },
      "execution_count": 35,
      "outputs": [
        {
          "output_type": "stream",
          "name": "stdout",
          "text": [
            "Collecting primesieve\n",
            "  Downloading primesieve-2.3.2.tar.gz (92 kB)\n",
            "\u001b[?25l     \u001b[90m━━━━━━━━━━━━━━━━━━━━━━━━━━━━━━━━━━━━━━━━\u001b[0m \u001b[32m0.0/92.4 kB\u001b[0m \u001b[31m?\u001b[0m eta \u001b[36m-:--:--\u001b[0m\r\u001b[2K     \u001b[91m━━━━━━━━━━━━━━━━━━━━━━━━━━━━━━━━━━━━━━━\u001b[0m\u001b[91m╸\u001b[0m \u001b[32m92.2/92.4 kB\u001b[0m \u001b[31m2.6 MB/s\u001b[0m eta \u001b[36m0:00:01\u001b[0m\r\u001b[2K     \u001b[90m━━━━━━━━━━━━━━━━━━━━━━━━━━━━━━━━━━━━━━━━\u001b[0m \u001b[32m92.4/92.4 kB\u001b[0m \u001b[31m1.9 MB/s\u001b[0m eta \u001b[36m0:00:00\u001b[0m\n",
            "\u001b[?25h  Preparing metadata (setup.py) ... \u001b[?25l\u001b[?25hdone\n",
            "Building wheels for collected packages: primesieve\n",
            "  Building wheel for primesieve (setup.py) ... \u001b[?25l\u001b[?25hdone\n",
            "  Created wheel for primesieve: filename=primesieve-2.3.2-cp310-cp310-linux_x86_64.whl size=296254 sha256=eea7181cb5021db0d5c144342fb27d41ca879debe687144341a9ee34a3895e0c\n",
            "  Stored in directory: /root/.cache/pip/wheels/b5/aa/75/e002789ba0e5e72dbe4c28ae10ac42560f2e5dff9b04a79bfa\n",
            "Successfully built primesieve\n",
            "Installing collected packages: primesieve\n",
            "Successfully installed primesieve-2.3.2\n"
          ]
        }
      ]
    },
    {
      "cell_type": "code",
      "source": [
        "from primesieve import primes\n",
        "list(primes(70))"
      ],
      "metadata": {
        "id": "y2vELZCISP4o",
        "outputId": "7d230e8d-16f7-4611-9940-8ffb19fed96b",
        "colab": {
          "base_uri": "https://localhost:8080/"
        }
      },
      "execution_count": 36,
      "outputs": [
        {
          "output_type": "execute_result",
          "data": {
            "text/plain": [
              "[2, 3, 5, 7, 11, 13, 17, 19, 23, 29, 31, 37, 41, 43, 47, 53, 59, 61, 67]"
            ]
          },
          "metadata": {},
          "execution_count": 36
        }
      ]
    },
    {
      "cell_type": "code",
      "source": [
        "%timeit primes(1000)"
      ],
      "metadata": {
        "id": "oKFOqw5HreQ0",
        "outputId": "5128e75a-554f-456e-f116-abacc47a4d33",
        "colab": {
          "base_uri": "https://localhost:8080/"
        }
      },
      "execution_count": 37,
      "outputs": [
        {
          "output_type": "stream",
          "name": "stdout",
          "text": [
            "2.43 µs ± 81.2 ns per loop (mean ± std. dev. of 7 runs, 100000 loops each)\n"
          ]
        }
      ]
    },
    {
      "cell_type": "code",
      "source": [
        "%timeit list(prime_numbers(1000))"
      ],
      "metadata": {
        "id": "O4vAyieUrhlz",
        "outputId": "a7277e47-fccb-4c35-eec6-c3cc3a1c5de3",
        "colab": {
          "base_uri": "https://localhost:8080/"
        }
      },
      "execution_count": 38,
      "outputs": [
        {
          "output_type": "stream",
          "name": "stdout",
          "text": [
            "1.98 ms ± 424 µs per loop (mean ± std. dev. of 7 runs, 1000 loops each)\n"
          ]
        }
      ]
    },
    {
      "cell_type": "code",
      "source": [
        "import primesieve, math\n",
        "\n",
        "def is_square(n):\n",
        "    s = int(math.sqrt(n))\n",
        "    return s*s == n\n",
        "\n",
        "it = primesieve.Iterator()\n",
        "it.skipto(2**28-1)\n",
        "p = it.next_prime()\n",
        "\n",
        "while p < 2**30-1:\n",
        "    if is_square(5*p*p+4) or is_square(5*p*p-4):\n",
        "        print('¡¡ Got one !! ', p, 'is a Fibonacci prime!')\n",
        "    p = it.next_prime()"
      ],
      "metadata": {
        "id": "3yiV4UdZrmmN",
        "outputId": "0187615d-c4dc-4090-ae66-58568c109d5b",
        "colab": {
          "base_uri": "https://localhost:8080/"
        }
      },
      "execution_count": 39,
      "outputs": [
        {
          "output_type": "stream",
          "name": "stdout",
          "text": [
            "¡¡ Got one !!  433494437 is a Fibonacci prime!\n"
          ]
        }
      ]
    }
  ]
}