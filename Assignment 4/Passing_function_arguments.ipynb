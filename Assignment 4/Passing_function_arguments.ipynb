{
  "nbformat": 4,
  "nbformat_minor": 0,
  "metadata": {
    "colab": {
      "provenance": [],
      "authorship_tag": "ABX9TyN3x7S2/xyLNiKui7IuyUi3",
      "include_colab_link": true
    },
    "kernelspec": {
      "name": "python3",
      "display_name": "Python 3"
    },
    "language_info": {
      "name": "python"
    }
  },
  "cells": [
    {
      "cell_type": "markdown",
      "metadata": {
        "id": "view-in-github",
        "colab_type": "text"
      },
      "source": [
        "<a href=\"https://colab.research.google.com/github/PrasantIITM/ma22c033_2023_PL/blob/main/Assignment%204/Passing_function_arguments.ipynb\" target=\"_parent\"><img src=\"https://colab.research.google.com/assets/colab-badge.svg\" alt=\"Open In Colab\"/></a>"
      ]
    },
    {
      "cell_type": "code",
      "source": [
        "import numpy as np\n"
      ],
      "metadata": {
        "id": "3O1N4vU8VazG"
      },
      "execution_count": 1,
      "outputs": []
    },
    {
      "cell_type": "code",
      "execution_count": 2,
      "metadata": {
        "id": "elfWUgjBS3UU"
      },
      "outputs": [],
      "source": [
        "def twice(w):\n",
        "  \"\"\"Replace w by 2*w\"\"\"\n",
        "  w *= 2\n",
        ""
      ]
    },
    {
      "cell_type": "code",
      "source": [
        "v = [2, 5, 1]\n",
        "twice(v)"
      ],
      "metadata": {
        "id": "cmhMFP2GS-yw"
      },
      "execution_count": 3,
      "outputs": []
    },
    {
      "cell_type": "code",
      "source": [
        "b=np.array([2,5,1])\n",
        "twice(b)"
      ],
      "metadata": {
        "id": "a1KIAscFn7nG"
      },
      "execution_count": 4,
      "outputs": []
    },
    {
      "cell_type": "code",
      "source": [
        "s=str([2,5,1])\n",
        "twice(s)"
      ],
      "metadata": {
        "id": "0omS50CSoJRm"
      },
      "execution_count": 5,
      "outputs": []
    },
    {
      "cell_type": "code",
      "source": [
        "print(v)\n",
        "print(b)\n",
        "print(s)"
      ],
      "metadata": {
        "id": "yZDfBWcasY2j",
        "outputId": "b296f2b7-05bd-43dd-d889-21550d98dc4c",
        "colab": {
          "base_uri": "https://localhost:8080/"
        }
      },
      "execution_count": 7,
      "outputs": [
        {
          "output_type": "stream",
          "name": "stdout",
          "text": [
            "[2, 5, 1, 2, 5, 1]\n",
            "[ 4 10  2]\n",
            "[2, 5, 1]\n"
          ]
        }
      ]
    },
    {
      "cell_type": "markdown",
      "source": [
        "Here we observe that we apply twice fuction on  normal array in output it is it increae the length of array and repeated the elements in it . when we apply this in numpy array it execute twice of each elemnent. But when we do this with a string nothing happen to its."
      ],
      "metadata": {
        "id": "B2PM00SHsmJ7"
      }
    }
  ]
}